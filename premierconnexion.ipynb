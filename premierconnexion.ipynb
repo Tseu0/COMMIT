{
  "nbformat": 4,
  "nbformat_minor": 0,
  "metadata": {
    "colab": {
      "provenance": [],
      "authorship_tag": "ABX9TyNqL89u9tHLCJpd/PtIlT1I",
      "include_colab_link": true
    },
    "kernelspec": {
      "name": "python3",
      "display_name": "Python 3"
    },
    "language_info": {
      "name": "python"
    }
  },
  "cells": [
    {
      "cell_type": "markdown",
      "metadata": {
        "id": "view-in-github",
        "colab_type": "text"
      },
      "source": [
        "<a href=\"https://colab.research.google.com/github/Tseu0/COMMIT/blob/master/premierconnexion.ipynb\" target=\"_parent\"><img src=\"https://colab.research.google.com/assets/colab-badge.svg\" alt=\"Open In Colab\"/></a>"
      ]
    },
    {
      "cell_type": "code",
      "source": [
        "# prompt: code python pour me connecté a API alphavantage\n",
        "\n",
        "!pip install alpha_vantage\n",
        "\n",
        "import pandas as pd\n",
        "from alpha_vantage.timeseries import TimeSeries\n",
        "\n",
        "# Remplacez 'YOUR_API_KEY' par votre clé API Alpha Vantage\n",
        "api_key = 'O7M12YGVC96VAUA4'\n",
        "\n",
        "ts = TimeSeries(key=api_key, output_format='pandas')\n",
        "\n",
        "# Obtenir les données de série chronologique pour une action spécifique (par exemple, AAPL)\n",
        "data, meta_data = ts.get_daily(symbol='AAPL', outputsize='compact')\n",
        "\n",
        "# Afficher les données\n",
        "print(data.head())\n",
        "\n",
        "# Vous pouvez accéder aux données comme un DataFrame Pandas\n",
        "# Par exemple, pour obtenir le prix de clôture :\n",
        "closing_prices = data['4. close']\n",
        "closing_prices"
      ],
      "metadata": {
        "colab": {
          "base_uri": "https://localhost:8080/",
          "height": 909
        },
        "id": "b76v_W7w_IJg",
        "outputId": "d9f4291a-a6e5-4471-90e5-527103ea84b1"
      },
      "execution_count": 3,
      "outputs": [
        {
          "output_type": "stream",
          "name": "stdout",
          "text": [
            "Requirement already satisfied: alpha_vantage in /usr/local/lib/python3.10/dist-packages (3.0.0)\n",
            "Requirement already satisfied: aiohttp in /usr/local/lib/python3.10/dist-packages (from alpha_vantage) (3.10.10)\n",
            "Requirement already satisfied: requests in /usr/local/lib/python3.10/dist-packages (from alpha_vantage) (2.32.3)\n",
            "Requirement already satisfied: aiohappyeyeballs>=2.3.0 in /usr/local/lib/python3.10/dist-packages (from aiohttp->alpha_vantage) (2.4.3)\n",
            "Requirement already satisfied: aiosignal>=1.1.2 in /usr/local/lib/python3.10/dist-packages (from aiohttp->alpha_vantage) (1.3.1)\n",
            "Requirement already satisfied: attrs>=17.3.0 in /usr/local/lib/python3.10/dist-packages (from aiohttp->alpha_vantage) (24.2.0)\n",
            "Requirement already satisfied: frozenlist>=1.1.1 in /usr/local/lib/python3.10/dist-packages (from aiohttp->alpha_vantage) (1.5.0)\n",
            "Requirement already satisfied: multidict<7.0,>=4.5 in /usr/local/lib/python3.10/dist-packages (from aiohttp->alpha_vantage) (6.1.0)\n",
            "Requirement already satisfied: yarl<2.0,>=1.12.0 in /usr/local/lib/python3.10/dist-packages (from aiohttp->alpha_vantage) (1.17.1)\n",
            "Requirement already satisfied: async-timeout<5.0,>=4.0 in /usr/local/lib/python3.10/dist-packages (from aiohttp->alpha_vantage) (4.0.3)\n",
            "Requirement already satisfied: charset-normalizer<4,>=2 in /usr/local/lib/python3.10/dist-packages (from requests->alpha_vantage) (3.4.0)\n",
            "Requirement already satisfied: idna<4,>=2.5 in /usr/local/lib/python3.10/dist-packages (from requests->alpha_vantage) (3.10)\n",
            "Requirement already satisfied: urllib3<3,>=1.21.1 in /usr/local/lib/python3.10/dist-packages (from requests->alpha_vantage) (2.2.3)\n",
            "Requirement already satisfied: certifi>=2017.4.17 in /usr/local/lib/python3.10/dist-packages (from requests->alpha_vantage) (2024.8.30)\n",
            "Requirement already satisfied: typing-extensions>=4.1.0 in /usr/local/lib/python3.10/dist-packages (from multidict<7.0,>=4.5->aiohttp->alpha_vantage) (4.12.2)\n",
            "Requirement already satisfied: propcache>=0.2.0 in /usr/local/lib/python3.10/dist-packages (from yarl<2.0,>=1.12.0->aiohttp->alpha_vantage) (0.2.0)\n",
            "            1. open  2. high   3. low  4. close  5. volume\n",
            "date                                                      \n",
            "2024-11-15  2566.97  2571.76  2563.18   2566.73        0.0\n",
            "2024-11-14  2571.00  2577.54  2536.89   2566.95        0.0\n",
            "2024-11-13  2599.06  2618.91  2569.46   2570.97        0.0\n",
            "2024-11-12  2624.08  2627.21  2589.80   2599.03        0.0\n",
            "2024-11-11  2685.69  2686.23  2610.67   2624.08        0.0\n"
          ]
        },
        {
          "output_type": "execute_result",
          "data": {
            "text/plain": [
              "date\n",
              "2024-11-15    2566.73\n",
              "2024-11-14    2566.95\n",
              "2024-11-13    2570.97\n",
              "2024-11-12    2599.03\n",
              "2024-11-11    2624.08\n",
              "               ...   \n",
              "2024-07-28    2397.16\n",
              "2024-07-26    2387.19\n",
              "2024-07-25    2363.91\n",
              "2024-07-24    2398.71\n",
              "2024-07-23    2408.64\n",
              "Name: 4. close, Length: 100, dtype: float64"
            ],
            "text/html": [
              "<div>\n",
              "<style scoped>\n",
              "    .dataframe tbody tr th:only-of-type {\n",
              "        vertical-align: middle;\n",
              "    }\n",
              "\n",
              "    .dataframe tbody tr th {\n",
              "        vertical-align: top;\n",
              "    }\n",
              "\n",
              "    .dataframe thead th {\n",
              "        text-align: right;\n",
              "    }\n",
              "</style>\n",
              "<table border=\"1\" class=\"dataframe\">\n",
              "  <thead>\n",
              "    <tr style=\"text-align: right;\">\n",
              "      <th></th>\n",
              "      <th>4. close</th>\n",
              "    </tr>\n",
              "    <tr>\n",
              "      <th>date</th>\n",
              "      <th></th>\n",
              "    </tr>\n",
              "  </thead>\n",
              "  <tbody>\n",
              "    <tr>\n",
              "      <th>2024-11-15</th>\n",
              "      <td>2566.73</td>\n",
              "    </tr>\n",
              "    <tr>\n",
              "      <th>2024-11-14</th>\n",
              "      <td>2566.95</td>\n",
              "    </tr>\n",
              "    <tr>\n",
              "      <th>2024-11-13</th>\n",
              "      <td>2570.97</td>\n",
              "    </tr>\n",
              "    <tr>\n",
              "      <th>2024-11-12</th>\n",
              "      <td>2599.03</td>\n",
              "    </tr>\n",
              "    <tr>\n",
              "      <th>2024-11-11</th>\n",
              "      <td>2624.08</td>\n",
              "    </tr>\n",
              "    <tr>\n",
              "      <th>...</th>\n",
              "      <td>...</td>\n",
              "    </tr>\n",
              "    <tr>\n",
              "      <th>2024-07-28</th>\n",
              "      <td>2397.16</td>\n",
              "    </tr>\n",
              "    <tr>\n",
              "      <th>2024-07-26</th>\n",
              "      <td>2387.19</td>\n",
              "    </tr>\n",
              "    <tr>\n",
              "      <th>2024-07-25</th>\n",
              "      <td>2363.91</td>\n",
              "    </tr>\n",
              "    <tr>\n",
              "      <th>2024-07-24</th>\n",
              "      <td>2398.71</td>\n",
              "    </tr>\n",
              "    <tr>\n",
              "      <th>2024-07-23</th>\n",
              "      <td>2408.64</td>\n",
              "    </tr>\n",
              "  </tbody>\n",
              "</table>\n",
              "<p>100 rows × 1 columns</p>\n",
              "</div><br><label><b>dtype:</b> float64</label>"
            ]
          },
          "metadata": {},
          "execution_count": 3
        }
      ]
    }
  ]
}